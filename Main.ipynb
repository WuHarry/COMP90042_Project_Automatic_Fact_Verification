{
 "cells": [
  {
   "cell_type": "code",
   "execution_count": 1,
   "metadata": {},
   "outputs": [
    {
     "name": "stdout",
     "output_type": "stream",
     "text": [
      "5001\n",
      "lucene 7.7.1\n",
      "100 tests loaded\n",
      "200 tests loaded\n",
      "300 tests loaded\n",
      "400 tests loaded\n",
      "500 tests loaded\n",
      "600 tests loaded\n",
      "700 tests loaded\n",
      "800 tests loaded\n",
      "900 tests loaded\n",
      "1000 tests loaded\n",
      "1100 tests loaded\n",
      "1200 tests loaded\n",
      "1300 tests loaded\n",
      "1400 tests loaded\n",
      "1500 tests loaded\n",
      "1600 tests loaded\n",
      "1700 tests loaded\n",
      "1800 tests loaded\n",
      "1900 tests loaded\n",
      "2000 tests loaded\n",
      "2100 tests loaded\n",
      "2200 tests loaded\n",
      "2300 tests loaded\n",
      "2400 tests loaded\n",
      "2500 tests loaded\n",
      "2600 tests loaded\n",
      "2700 tests loaded\n",
      "2800 tests loaded\n",
      "2900 tests loaded\n",
      "3000 tests loaded\n",
      "3100 tests loaded\n",
      "3200 tests loaded\n",
      "3300 tests loaded\n",
      "3400 tests loaded\n",
      "3500 tests loaded\n",
      "3600 tests loaded\n",
      "3700 tests loaded\n",
      "3800 tests loaded\n",
      "3900 tests loaded\n",
      "4000 tests loaded\n",
      "4100 tests loaded\n",
      "4200 tests loaded\n",
      "4300 tests loaded\n",
      "4400 tests loaded\n",
      "4500 tests loaded\n",
      "4600 tests loaded\n",
      "4700 tests loaded\n",
      "4800 tests loaded\n",
      "4900 tests loaded\n",
      "5000 tests loaded\n",
      "Data set convertered!\n",
      "5001\n",
      "0:13:47.811816\n"
     ]
    }
   ],
   "source": [
    "import json\n",
    "from zipfile import ZipFile\n",
    "import sys, os, lucene, time\n",
    "from datetime import datetime\n",
    "\n",
    "import search_engine as se\n",
    "\n",
    "import io_interface\n",
    "\n",
    "with open('devset.json', 'r') as training:\n",
    "    training_data = json.loads(training.read())\n",
    "\n",
    "print(len(list(training_data.items())))\n",
    "    \n",
    "assert lucene.getVMEnv() or lucene.initVM(vmargs=['-Djava.awt.headless=true'])\n",
    "\n",
    "print('lucene', lucene.VERSION)\n",
    "# start = datetime.now()\n",
    "# try:\n",
    "#     base_dir = os.getcwd()\n",
    "# #     search_engine = se.IndexFiles('wiki-pages-text.zip', os.path.join(base_dir, INDEX_DIR), False)\n",
    "# #     loader = loader.Loader('wiki-pages-text.zip', os.path.join(base_dir, INDEX_DIR), base_dir)\n",
    "#     test = loader.train_dev_loader(False, 200)\n",
    "#     end = datetime.now()\n",
    "#     print(end - start)\n",
    "# except Exception as e:\n",
    "#     print(\"Failed: \", str(e))\n",
    "\n",
    "start = datetime.now()\n",
    "inputDataGenerator = io_interface.InputDataGenerator()\n",
    "# inputexample = inputDataGenerator.generateInput(float('inf'), True)\n",
    "testexample = inputDataGenerator.generateTest(False)\n",
    "print(len(testexample))\n",
    "end = datetime.now()\n",
    "print(end - start)"
   ]
  },
  {
   "cell_type": "code",
   "execution_count": 2,
   "metadata": {
    "scrolled": true
   },
   "outputs": [
    {
     "name": "stdout",
     "output_type": "stream",
     "text": [
      "20\n"
     ]
    }
   ],
   "source": [
    "print(len(testexample[0]['evidence']))"
   ]
  },
  {
   "cell_type": "code",
   "execution_count": null,
   "metadata": {},
   "outputs": [],
   "source": []
  }
 ],
 "metadata": {
  "kernelspec": {
   "display_name": "Python 3",
   "language": "python",
   "name": "python3"
  },
  "language_info": {
   "codemirror_mode": {
    "name": "ipython",
    "version": 3
   },
   "file_extension": ".py",
   "mimetype": "text/x-python",
   "name": "python",
   "nbconvert_exporter": "python",
   "pygments_lexer": "ipython3",
   "version": "3.7.1"
  }
 },
 "nbformat": 4,
 "nbformat_minor": 2
}
