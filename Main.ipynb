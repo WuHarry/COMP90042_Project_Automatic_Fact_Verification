{
 "cells": [
  {
   "cell_type": "code",
   "execution_count": 5,
   "metadata": {},
   "outputs": [
    {
     "name": "stdout",
     "output_type": "stream",
     "text": [
      "75397 {\n",
      "    \"claim\": \"Nikolaj Coster-Waldau worked with the Fox Broadcasting Company.\",\n",
      "    \"evidence\": [\n",
      "        [\n",
      "            \"Fox_Broadcasting_Company\",\n",
      "            0\n",
      "        ],\n",
      "        [\n",
      "            \"Nikolaj_Coster-Waldau\",\n",
      "            7\n",
      "        ]\n",
      "    ],\n",
      "    \"label\": \"SUPPORTS\"\n",
      "}\n",
      "461603\n",
      "['Alexander_McNair', '0', 'Alexander', 'McNair', '-LRB-', 'May', '5', ',', '1775', '--', 'March', '18', ',', '1826', '-RRB-', 'was', 'an', 'American', 'frontiersman', 'and', 'politician']\n",
      "['Aleksandr_Abdulkhalikov', '1', 'He', 'last', 'played', 'in', 'the', 'Russian', 'Second', 'Division', 'for', 'FC', 'Khimik', 'Dzerzhinsk']\n",
      "['Aleksey_Pushkov', '0', 'Aleksey', 'Konstantinovich', 'Pushkov', '-LRB-', '\\\\xd0\\\\x90\\\\xd0\\\\xbb\\\\xd0\\\\xb5\\\\xd0\\\\xba\\\\xd1\\\\x81\\\\xd0\\\\xb5\\\\xcc\\\\x81\\\\xd0\\\\xb9', '\\\\xd0\\\\x9a\\\\xd0\\\\xbe\\\\xd0\\\\xbd\\\\xd1\\\\x81\\\\xd1\\\\x82\\\\xd0\\\\xb0\\\\xd0\\\\xbd\\\\xd1\\\\x82\\\\xd0\\\\xb8\\\\xcc\\\\x81\\\\xd0\\\\xbd\\\\xd0\\\\xbe\\\\xd0\\\\xb2\\\\xd0\\\\xb8\\\\xd1\\\\x87', '\\\\xd0\\\\x9f\\\\xd1\\\\x83\\\\xd1\\\\x88\\\\xd0\\\\xba\\\\xd0\\\\xbe\\\\xcc\\\\x81\\\\xd0\\\\xb2', 'born', '10', 'August', '1954', '-RRB-', 'is', 'the', 'Russian', 'politician', ',', 'Senator', 'from', 'Perm', 'Krai', 'since', '29', 'September', '2016']\n"
     ]
    },
    {
     "ename": "ValueError",
     "evalue": "JVM is already running, options are ineffective",
     "output_type": "error",
     "traceback": [
      "\u001b[0;31m---------------------------------------------------------------------------\u001b[0m",
      "\u001b[0;31mValueError\u001b[0m                                Traceback (most recent call last)",
      "\u001b[0;32m<ipython-input-5-abcb8cf5c778>\u001b[0m in \u001b[0;36m<module>\u001b[0;34m\u001b[0m\n\u001b[1;32m     27\u001b[0m \u001b[0mprint\u001b[0m\u001b[0;34m(\u001b[0m\u001b[0mwiki_docs\u001b[0m\u001b[0;34m[\u001b[0m\u001b[0;36m1000\u001b[0m\u001b[0;34m]\u001b[0m\u001b[0;34m.\u001b[0m\u001b[0msplit\u001b[0m\u001b[0;34m(\u001b[0m\u001b[0;34m)\u001b[0m\u001b[0;34m)\u001b[0m\u001b[0;34m\u001b[0m\u001b[0;34m\u001b[0m\u001b[0m\n\u001b[1;32m     28\u001b[0m \u001b[0;34m\u001b[0m\u001b[0m\n\u001b[0;32m---> 29\u001b[0;31m \u001b[0mlucene\u001b[0m\u001b[0;34m.\u001b[0m\u001b[0minitVM\u001b[0m\u001b[0;34m(\u001b[0m\u001b[0mvmargs\u001b[0m\u001b[0;34m=\u001b[0m\u001b[0;34m[\u001b[0m\u001b[0;34m'-Djava.awt.headless=true'\u001b[0m\u001b[0;34m]\u001b[0m\u001b[0;34m)\u001b[0m\u001b[0;34m\u001b[0m\u001b[0;34m\u001b[0m\u001b[0m\n\u001b[0m\u001b[1;32m     30\u001b[0m \u001b[0;34m\u001b[0m\u001b[0m\n\u001b[1;32m     31\u001b[0m \u001b[0;34m\u001b[0m\u001b[0m\n",
      "\u001b[0;31mValueError\u001b[0m: JVM is already running, options are ineffective"
     ]
    }
   ],
   "source": [
    "import json\n",
    "import unicodedata\n",
    "from zipfile import ZipFile\n",
    "import lucene\n",
    "\n",
    "with open('train.json', 'r') as training:\n",
    "    training_data = json.loads(training.read())\n",
    "    \n",
    "for key, value in training_data.items():\n",
    "    print(key, json.dumps(value, sort_keys = True, indent = 4 ))\n",
    "    break\n",
    "    \n",
    "wikiFile = ZipFile('wiki-pages-text.zip', 'r')\n",
    "files = wikiFile.namelist()\n",
    "\n",
    "wiki_docs = []\n",
    "\n",
    "for file in files[1:3]:\n",
    "    wiki = wikiFile.open(file,'r')\n",
    "    for line in wiki:\n",
    "        wiki_docs.append(str(line.strip())[2:-3])\n",
    "    \n",
    "print(len(wiki_docs))\n",
    "print(wiki_docs[0].split())\n",
    "print(wiki_docs[50].split())\n",
    "print(wiki_docs[1000].split())\n",
    "    \n",
    "lucene.initVM(vmargs=['-Djava.awt.headless=true'])\n",
    "\n",
    "\n",
    "\n"
   ]
  },
  {
   "cell_type": "code",
   "execution_count": null,
   "metadata": {},
   "outputs": [],
   "source": []
  },
  {
   "cell_type": "code",
   "execution_count": null,
   "metadata": {},
   "outputs": [],
   "source": []
  }
 ],
 "metadata": {
  "kernelspec": {
   "display_name": "Python 3",
   "language": "python",
   "name": "python3"
  },
  "language_info": {
   "codemirror_mode": {
    "name": "ipython",
    "version": 3
   },
   "file_extension": ".py",
   "mimetype": "text/x-python",
   "name": "python",
   "nbconvert_exporter": "python",
   "pygments_lexer": "ipython3",
   "version": "3.7.1"
  }
 },
 "nbformat": 4,
 "nbformat_minor": 2
}
