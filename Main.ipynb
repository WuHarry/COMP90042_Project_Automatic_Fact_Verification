{
 "cells": [
  {
   "cell_type": "code",
   "execution_count": 3,
   "metadata": {},
   "outputs": [
    {
     "name": "stdout",
     "output_type": "stream",
     "text": [
      "5001\n",
      "lucene 7.7.1\n",
      "Dataset loaded!\n",
      "5001\n",
      "0:00:04.722441\n"
     ]
    }
   ],
   "source": [
    "import json\n",
    "from zipfile import ZipFile\n",
    "import sys, os, lucene, time\n",
    "from datetime import datetime\n",
    "\n",
    "import search_engine as se\n",
    "\n",
    "import io_interface\n",
    "\n",
    "with open('devset.json', 'r') as training:\n",
    "    training_data = json.loads(training.read())\n",
    "\n",
    "print(len(list(training_data.items())))\n",
    "    \n",
    "assert lucene.getVMEnv() or lucene.initVM(vmargs=['-Djava.awt.headless=true'])\n",
    "\n",
    "print('lucene', lucene.VERSION)\n",
    "# start = datetime.now()\n",
    "# try:\n",
    "#     base_dir = os.getcwd()\n",
    "# #     search_engine = se.IndexFiles('wiki-pages-text.zip', os.path.join(base_dir, INDEX_DIR), False)\n",
    "# #     loader = loader.Loader('wiki-pages-text.zip', os.path.join(base_dir, INDEX_DIR), base_dir)\n",
    "#     test = loader.train_dev_loader(False, 200)\n",
    "#     end = datetime.now()\n",
    "#     print(end - start)\n",
    "# except Exception as e:\n",
    "#     print(\"Failed: \", str(e))\n",
    "\n",
    "start = datetime.now()\n",
    "inputDataGenerator = io_interface.InputDataGenerator()\n",
    "inputexample = inputDataGenerator.generateInput(float('inf'), True)\n",
    "# testexample = inputDataGenerator.generateTest(False)\n",
    "print(len(testexample))\n",
    "end = datetime.now()\n",
    "print(end - start)"
   ]
  },
  {
   "cell_type": "code",
   "execution_count": 8,
   "metadata": {
    "scrolled": true
   },
   "outputs": [
    {
     "name": "stdout",
     "output_type": "stream",
     "text": [
      "{'index': 6, 'id': '83235', 'claim': 'System of a Down briefly disbanded in limbo.', 'label': 'NOT ENOUGH INFO', 'evidence': [('In Limbo may refer to :', 0), ('The group briefly disbanded in August 2006 and reunited in November 2010 , embarking on a tour for the following three years .', 0), ('In Limbo -LRB- novel -RRB- , by Christopher Evans', 0), ('In Limbo -LRB- album -RRB- by Pete Max', 0), ('In Limbo -LRB- EP -RRB- by Lydia Lunch', 0), ('In Limbo : The Lost Puracane Sessions , an album by Puracane', 0), (\"`` In Limbo '' , a song by Radiohead from the album Kid A\", 0), ('However , Limbo of the Infants is not an official doctrine of the Catholic Church .', 0), (\"`` In Limbo '' , a song by Genesis from the album From Genesis to Revelation\", 0), ('an undetermined stay in Limbo , a theoretical place between life and death', 0)]}\n"
     ]
    }
   ],
   "source": [
    "#  for e in inputexample:\n",
    "#     if e['id'] == '83235':\n",
    "#         print(e)"
   ]
  },
  {
   "cell_type": "code",
   "execution_count": null,
   "metadata": {},
   "outputs": [],
   "source": []
  }
 ],
 "metadata": {
  "kernelspec": {
   "display_name": "Python 3",
   "language": "python",
   "name": "python3"
  },
  "language_info": {
   "codemirror_mode": {
    "name": "ipython",
    "version": 3
   },
   "file_extension": ".py",
   "mimetype": "text/x-python",
   "name": "python",
   "nbconvert_exporter": "python",
   "pygments_lexer": "ipython3",
   "version": "3.7.1"
  }
 },
 "nbformat": 4,
 "nbformat_minor": 2
}
