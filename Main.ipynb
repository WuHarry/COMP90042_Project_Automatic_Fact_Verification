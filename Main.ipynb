{
 "cells": [
  {
   "cell_type": "code",
   "execution_count": 1,
   "metadata": {},
   "outputs": [
    {
     "name": "stdout",
     "output_type": "stream",
     "text": [
      "5001\n",
      "lucene 7.7.1\n",
      "100 tests loaded\n",
      "200 tests loaded\n",
      "300 tests loaded\n",
      "400 tests loaded\n",
      "500 tests loaded\n",
      "600 tests loaded\n",
      "700 tests loaded\n",
      "800 tests loaded\n",
      "900 tests loaded\n",
      "1000 tests loaded\n",
      "1100 tests loaded\n",
      "1200 tests loaded\n",
      "1300 tests loaded\n",
      "1400 tests loaded\n",
      "1500 tests loaded\n",
      "1600 tests loaded\n",
      "1700 tests loaded\n",
      "1800 tests loaded\n",
      "1900 tests loaded\n",
      "2000 tests loaded\n",
      "2100 tests loaded\n",
      "2200 tests loaded\n",
      "2300 tests loaded\n",
      "2400 tests loaded\n",
      "2500 tests loaded\n",
      "2600 tests loaded\n",
      "2700 tests loaded\n",
      "2800 tests loaded\n",
      "2900 tests loaded\n",
      "3000 tests loaded\n",
      "3100 tests loaded\n",
      "3200 tests loaded\n",
      "3300 tests loaded\n",
      "3400 tests loaded\n",
      "3500 tests loaded\n",
      "3600 tests loaded\n",
      "3700 tests loaded\n",
      "3800 tests loaded\n",
      "3900 tests loaded\n",
      "4000 tests loaded\n",
      "4100 tests loaded\n",
      "4200 tests loaded\n",
      "4300 tests loaded\n",
      "4400 tests loaded\n",
      "4500 tests loaded\n",
      "4600 tests loaded\n",
      "4700 tests loaded\n",
      "4800 tests loaded\n",
      "4900 tests loaded\n",
      "5000 tests loaded\n",
      "Data set convertered!\n",
      "0:12:52.199176\n"
     ]
    }
   ],
   "source": [
    "import json\n",
    "from zipfile import ZipFile\n",
    "import sys, os, lucene, time\n",
    "from datetime import datetime\n",
    "\n",
    "import search_engine as se\n",
    "\n",
    "import io_interface\n",
    "\n",
    "with open('devset.json', 'r') as training:\n",
    "    training_data = json.loads(training.read())\n",
    "\n",
    "print(len(list(training_data.items())))\n",
    "    \n",
    "assert lucene.getVMEnv() or lucene.initVM(vmargs=['-Djava.awt.headless=true'])\n",
    "\n",
    "print('lucene', lucene.VERSION)\n",
    "# start = datetime.now()\n",
    "# try:\n",
    "#     base_dir = os.getcwd()\n",
    "# #     search_engine = se.IndexFiles('wiki-pages-text.zip', os.path.join(base_dir, INDEX_DIR), False)\n",
    "# #     loader = loader.Loader('wiki-pages-text.zip', os.path.join(base_dir, INDEX_DIR), base_dir)\n",
    "#     test = loader.train_dev_loader(False, 200)\n",
    "#     end = datetime.now()\n",
    "#     print(end - start)\n",
    "# except Exception as e:\n",
    "#     print(\"Failed: \", str(e))\n",
    "\n",
    "start = datetime.now()\n",
    "inputDataGenerator = io_interface.InputDataGenerator()\n",
    "# inputexample = inputDataGenerator.generateInput(100, False)\n",
    "testexample = inputDataGenerator.generateTest(False)\n",
    "end = datetime.now()\n",
    "print(end - start)"
   ]
  },
  {
   "cell_type": "code",
   "execution_count": 2,
   "metadata": {
    "scrolled": true
   },
   "outputs": [
    {
     "name": "stdout",
     "output_type": "stream",
     "text": [
      "{'index': 2, 'id': '137334', 'claim': 'Fox 2000 Pictures released the film Soul Food.', 'label': 'SUPPORTS', 'evidence': [(\"Soul Food is a 1997 American comedy-drama film produced by Kenneth `` Babyface '' Edmonds , Tracey Edmonds and Robert Teitel and released by Fox 2000 Pictures .\", 1), ('Soul Food -LRB- soundtrack -RRB- , the soundtrack to the 1997 film Soul Food', 0), ('In 2015 , it was announced that 20th Century Fox is planning a sequel for film called More Soul Food , written by Tillman , Jr. .', 0), ('Soul Food -LRB- film -RRB- , a 1997 American comedy-drama film', 0), ('Soul food is a type of cuisine .', 0), ('Soul Food may also refer to :', 0), ('Soul Food -LRB- Oblivians album -RRB-', 0), ('Soul Food -LRB- Def Jef album -RRB-', 0), ('Soul Food -LRB- Goodie Mob album -RRB-', 0), (\"Fox Searchlight Pictures is an American film distribution company within the Fox Entertainment Group , a sister company of the larger Fox studio 20th Century Fox , all owned by Rupert Murdoch 's 21st Century Fox .\", 0)]}\n"
     ]
    }
   ],
   "source": [
    "# print(len(inputexample))\n",
    "# print(inputexample[0])\n",
    "\n"
   ]
  },
  {
   "cell_type": "code",
   "execution_count": 2,
   "metadata": {},
   "outputs": [
    {
     "name": "stdout",
     "output_type": "stream",
     "text": [
      "5001\n",
      "[{'index': 0, 'id': '91198', 'claim': 'Colin Kaepernick became a starting quarterback during the 49ers 63rd season in the National Football League.', 'label': 'UNKOWN', 'evidence': [('During the 2013 season , his first full season as a starter , Kaepernick helped the 49ers reach the NFC Championship , losing to the Seattle Seahawks .', 'Colin_Kaepernick 7'), ('Colin Rand Kaepernick -LRB- -LSB- ` kæpərnɪk -RSB- ; born November 3 , 1987 -RRB- is an American football quarterback who is currently a free agent .', 'Colin_Kaepernick 0'), ('In the following seasons , Kaepernick lost and won back his starting job , with the 49ers missing the playoffs for three years consecutively .', 'Colin_Kaepernick 8'), (\"Kaepernick began his professional career as a backup to Alex Smith , but became the 49ers ' starter in the middle of the 2012 season after Smith suffered a concussion .\", 'Colin_Kaepernick 5'), ('Kaepernick was selected by the San Francisco 49ers in the second round of the 2011 NFL Draft .', 'Colin_Kaepernick 2'), (\"He remained the team 's starting quarterback for the rest of the season and went on to lead the 49ers to their first Super Bowl appearance since 1994 , losing to the Baltimore Ravens .\", 'Colin_Kaepernick 6'), (\"The 2008 San Francisco 49ers season was the franchise 's 63rd season , and 59th in the National Football League .\", '2008_San_Francisco_49ers_season 0'), ('The season was notable when Colin Kaepernick sat during the National Anthem in a preseason game against San Diego .', '2016_San_Francisco_49ers_season 11'), ('The 49ers finished 30th in passing yards per game , 25th in the league averaging just 19.1 points per game while Colin Kaepernick was also sacked 52 times during the season , a team record .', '2014_San_Francisco_49ers_season 13'), ('The 1978 San Francisco 49ers season was their 29th season in the National Football League .', '1978_San_Francisco_49ers_season 0')]}, {'index': 1, 'id': '194462', 'claim': 'Tilda Swinton is a vegan.', 'label': 'UNKOWN', 'evidence': [(\"Katherine Matilda `` Tilda '' Swinton -LRB- born 5 November 1960 -RRB- is a British actress , performance artist , model , and fashion muse , known for her roles in independent and Hollywood films .\", 'Tilda_Swinton 0'), ('Tilda Swinton -LRB- born 1960 -RRB- , British actress', 'Tilda 12'), ('The following is a list of awards and nominations received by actress Tilda Swinton .', 'List_of_awards_and_nominations_received_by_Tilda_Swinton 0'), ('Swinton was nominated for a Golden Globe Award for her performance in The Deep End -LRB- 2001 -RRB- .', 'Tilda_Swinton 9'), ('Swinton later starred in the dark romantic fantasy drama , Only Lovers Left Alive -LRB- 2014 -RRB- .', 'Tilda_Swinton 14'), ('In 2005 , Swinton was given the Richard Harris Award by the British Independent Film Awards in recognition of her contributions to the British film industry .', 'Tilda_Swinton 20'), ('Swinton won the Volpi Cup for Best Actress at the Venice Film Festival for her performance as Isabella of France in Edward II -LRB- 1991 -RRB- .', 'Tilda_Swinton 5'), ('Tilda Swinton -LRB- born 1960 -RRB- , English actress', 'Swinton_-LRB-surname-RRB- 19'), ('Swinton won the Academy Award for Best Supporting Actress and the BAFTA Award for Best Actress in a Supporting Role for her performance as lawyer Karen Crowder in Michael Clayton -LRB- 2007 -RRB- .', 'Tilda_Swinton 16'), ('Tilda may refer to :', 'Tilda 0')]}, {'index': 2, 'id': '137334', 'claim': 'Fox 2000 Pictures released the film Soul Food.', 'label': 'UNKOWN', 'evidence': [(\"Soul Food is a 1997 American comedy-drama film produced by Kenneth `` Babyface '' Edmonds , Tracey Edmonds and Robert Teitel and released by Fox 2000 Pictures .\", 'Soul_Food_-LRB-film-RRB- 0'), ('Soul Food -LRB- soundtrack -RRB- , the soundtrack to the 1997 film Soul Food', 'Soul_Food 7'), ('In 2015 , it was announced that 20th Century Fox is planning a sequel for film called More Soul Food , written by Tillman , Jr. .', 'Soul_Food_-LRB-film-RRB- 7'), ('Soul Food -LRB- film -RRB- , a 1997 American comedy-drama film', 'Soul_Food 5'), ('Soul food is a type of cuisine .', 'Soul_Food 0'), ('Soul Food may also refer to :', 'Soul_Food 3'), ('Soul Food -LRB- Oblivians album -RRB-', 'Soul_Food 13'), ('Soul Food -LRB- Def Jef album -RRB-', 'Soul_Food 9'), ('Soul Food -LRB- Goodie Mob album -RRB-', 'Soul_Food 11'), (\"Fox Searchlight Pictures is an American film distribution company within the Fox Entertainment Group , a sister company of the larger Fox studio 20th Century Fox , all owned by Rupert Murdoch 's 21st Century Fox .\", 'Fox_Searchlight_Pictures 0')]}, {'index': 3, 'id': '166626', 'claim': 'Anne Rice was born in New Jersey.', 'label': 'UNKOWN', 'evidence': [(\"Anne Rice -LRB- born Howard Allen Frances O'Brien ; October 4 , 1941 -RRB- is an American author of gothic fiction , Christian literature , and erotica .\", 'Anne_Rice 0'), ('Born in New Orleans , Rice spent much of her early life there before moving to Texas , and later to San Francisco .', 'Anne_Rice 5'), ('Rice has also authored erotic fiction under the pen names Anne Rampling and A. N. Roquelaure , including Exit to Eden , which was later adapted into a 1994 film .', 'Anne_Rice 22'), ('Anneka Rice -LRB- born Anne Rice ; 4 October 1958 -RRB- is a British television and radio presenter .', 'Anneka_Rice 0'), ('He was the husband of author Anne Rice .', 'Stan_Rice 1'), ('Anne M. Patterson -LRB- born 1959 -RRB- , Associate Justice of the New Jersey Supreme Court', 'Anne_Patterson 3'), ('Laura Anne Gilman -LRB- born 1967 , New Jersey -RRB- is an American fantasy author .', 'Laura_Anne_Gilman 0'), ('His son , Ronald C. Rice , is a former city councilman in Newark , New Jersey .', 'Ronald_Rice 2'), ('Bergen City , New Jersey , a former city annexed by Jersey City , New Jersey .', 'Bergen,_New_Jersey 5'), ('Newport , Jersey City , New Jersey', 'Newport,_New_Jersey 6')]}, {'index': 4, 'id': '111897', 'claim': 'Telemundo is a English-language television network.', 'label': 'UNKOWN', 'evidence': [('Noticiero Telemundo -LRB- -LSB- notiˈsjeɾo teleˈmundo -RSB- ; English translation : Telemundo News -RRB- is the flagship daily evening television news program of Noticias Telemundo , the news division of the American Spanish language broadcast television network Telemundo .', 'Noticiero_Telemundo 0'), ('Telemundo -LRB- -LSB- teleˈmundo -RSB- -RRB- is an American Spanish-language terrestrial television network owned by Comcast through the NBCUniversal division NBCUniversal Telemundo Enterprises .', 'Telemundo 0'), ('Hispanic Television Network -LRB- HTVN -RRB- is a defunct family-oriented television network that was once the third-largest Spanish-language network in the United States , after Univision and Telemundo .', 'Hispanic_Television_Network 0'), ('Noticias Telemundo -LRB- -LSB- noˈtisjas teleˈmundo -RSB- , Telemundo News -RRB- is the news division of Telemundo , an American Spanish language broadcast television network that is owned by NBCUniversal Hispanic Enterprises and Content , a subsidiary of the NBCUniversal Television Group division of NBCUniversal .', 'Noticias_Telemundo 0'), ('CTV is an English-language broadcast television network in Canada launched in 1961 .', 'CTV_Television_Network 0'), (\"Noticias Telemundo maintains bureaus located at many of the network 's television stations across the United States -LRB- particularly those owned by parent subsidiary Telemundo Station Group , that are owned-and-operated stations of the network -RRB- and throughout Latin America , and uses video content from English language sister network NBC 's news division NBC News .\", 'Noticias_Telemundo 8'), ('Telemundo is an American broadcast television television network owned by the Telemundo Television Group division of NBCUniversal , which was launched in 1984 as NetSpan .', 'List_of_Telemundo_affiliates_-LRB-table-RRB- 0'), ('Global Television Network -LRB- more commonly called Global , or occasionally Global TV -RRB- is a privately owned Canadian English-language broadcast television network .', 'Global_Television_Network 0'), ('Telemundo is an American television network owned by NBCUniversal and the first telenovela was created in 1988 .', 'List_of_telenovelas_and_series_of_Telemundo 0'), (\"Telemundo Deportes is the programming division of the NBC Sports Group , owned by the NBCUniversal Television Group division of NBCUniversal , that is responsible for the production of sports events and magazine programs that air on NBCUniversal 's Spanish language television networks Telemundo and Universo .\", 'Telemundo_Deportes 0')]}, {'index': 5, 'id': '89891', 'claim': \"Damon Albarn's debut album was released in 2011.\", 'label': 'UNKOWN', 'evidence': [('In 2007 , Damon worked with Texan singer-songwriter Laura Marie to produce her debut solo album , Drawn .', 'Mack_Damon 31'), ('Self-Titled Long-Playing Debut Album is the first album released by + / - .', 'Self-Titled_Long-Playing_Debut_Album 0'), (\"` F ' Debut is the first album by Fiona Sit , and was released on April 8 , 2004 .\", \"'F'_Debut 0\"), ('Damon may refer to :', 'Damon 0'), ('Polyommatus damon , the Damon blue , is a butterfly of the Lycaenidae family .', 'Polyommatus_damon 0'), ('Widowspeak is the debut album by Widowspeak , released in 2011 by Captured Tracks .', 'Widowspeak_-LRB-Widowspeak_album-RRB- 0'), (\"`` Released '' , the third song on Norther 's 2002 debut album , Dreams of Endless War\", 'Released 7'), ('The Multi-Platinum Debut Album is the first studio album by American hip hop group Hangar 18 .', 'The_Multi-Platinum_Debut_Album 0'), ('Samuel C. Damon , Samuel Chenery Damon -LRB- 1815 -- 1885 -RRB- , missionary to Hawaii', 'Samuel_Damon 3'), ('Damon Thomas may refer to :', 'Damon_Thomas 0')]}, {'index': 6, 'id': '181634', 'claim': 'There is a capital called Mogadishu.', 'label': 'UNKOWN', 'evidence': [('The Port of Mogadishu , also known as the Mogadishu International Port , is the official seaport of Mogadishu , the capital of Somalia .', 'Port_of_Mogadishu 0'), (\"As Somalia 's capital city , many important national institutions are based in Mogadishu .\", 'Mogadishu 17'), ('The Battle of South Mogadishu occurred in the Somali capital of Mogadishu on February 24 , 2009 .', 'Battle_of_South_Mogadishu 0'), ('The 2008 Mogadishu bombings occurred on August 3 , 2008 in Mogadishu , the capital of Somalia .', '2008_Mogadishu_bombings 0'), ('The nickname itself comes from Mogadishu , the capital of Somalia .', 'Mogadishu_Avenue 5'), ('Mogadishu University , a non-governmental university in the Somali capital of Mogadishu', 'Mogadishu_-LRB-disambiguation-RRB- 12'), (\"Mogadishu International Airport , the capital 's main airport , is the hub of the national carrier Somali Airlines .\", 'Mogadishu 38'), ('Lido Beach in Mogadishu is a beach in Somalia ` s capital .', 'Lido_Beach,_Mogadishu 0'), ('Mogadishu Stadium is a stadium in Mogadishu , Somalia .', 'Mogadishu_Stadium 0'), ('The May 2010 Mogadishu bombings were an attack at a mosque near the Bakaara market in Mogadishu , the capital of Somalia , on .', 'May_2010_Mogadishu_bombings 0')]}, {'index': 7, 'id': '219028', 'claim': 'Savages was exclusively a German film.', 'label': 'UNKOWN', 'evidence': [('Savages or The Savages may refer to :', 'Savages 0'), ('For the 2007 film , see The Savages', 'Savages_-LRB-2012_film-RRB- 0'), ('The Savages is a 2007 American drama film written and directed by Tamara Jenkins .', 'The_Savages_-LRB-film-RRB- 0'), ('Savages is a 2012 American crime thriller film directed by Oliver Stone .', 'Savages_-LRB-2012_film-RRB- 3'), ('These Hopeless Savages is a feature film released by Working Group Pictures in March 2015 .', 'These_Hopeless_Savages 0'), ('The Actor and the Savages -LRB- Actorul şi sălbaticii -RRB- is a 1975 Romanian drama film directed by Manole Marcus .', 'The_Actor_and_the_Savages 0'), ('Savages is a 1974 American TV film directed by Lee H. Katzin and based on the novel Deathwatch by Robb White .', 'Savages_-LRB-1974_film-RRB- 0'), (\"`` Savages '' is a song from the 1995 Disney animated film Pocahontas .\", 'Savages_-LRB-Pocahontas_song-RRB- 0'), ('The Cycle Savages is a 1969 American outlaw biker exploitation film written and directed by Bill Brame , and stars Bruce Dern and Melody Patterson .', 'The_Cycle_Savages 0'), ('The Young Savages is a 1961 crime drama film directed by John Frankenheimer , starring Burt Lancaster , and written by Edward Anhalt from a novel by Evan Hunter .', 'The_Young_Savages 0')]}, {'index': 8, 'id': '194372', 'claim': 'Happiness in Slavery is a gospel song by Nine Inch Nails.', 'label': 'UNKOWN', 'evidence': [(\"Nine Inch Nails has been nominated for thirteen Grammy Awards , and won twice for the songs `` Wish '' and `` Happiness in Slavery '' in 1992 and 1996 , respectively .\", 'Nine_Inch_Nails 16'), (\"`` Happiness in Slavery '' is a song by American industrial rock band Nine Inch Nails from their debut extended play -LRB- EP -RRB- , Broken -LRB- 1992 -RRB- .\", 'Happiness_in_Slavery 0'), (\"`` Only '' is a song by the American artist Nine Inch Nails .\", 'Only_-LRB-Nine_Inch_Nails_song-RRB- 0'), (\"Nine Inch Nails ' performance of `` Happiness in Slavery '' at Woodstock ' 94 , included on the concert 's compilation album , won the Grammy Award for Best Metal Performance in 1996 .\", 'Happiness_in_Slavery 5'), ('In 2014 , Nine Inch Nails was named as nominees for induction into the Rock and Roll Hall of Fame , their first year of eligibility .', 'Nine_Inch_Nails 19'), (\"Nine Inch Nails has received four awards from 25 nominations , including two Grammy Awards for the songs `` Wish '' and `` Happiness in Slavery '' in 1993 and 1996 respectively .\", 'List_of_awards_and_nominations_received_by_Nine_Inch_Nails 2'), ('Reznor returned to self-releasing material with the second Nine Inch Nails EP , Not the Actual Events -LRB- 2016 -RRB- .', 'Nine_Inch_Nails 6'), ('On stage , Nine Inch Nails often employs visual elements to accompany performances , which frequently include light shows .', 'Nine_Inch_Nails 13'), ('In 2004 , Rolling Stone placed Nine Inch Nails at 94 on its list of the 100 greatest artists of all time .', 'Nine_Inch_Nails 18'), ('Initial ambitions for Nine Inch Nails in 1988 were to release one 12-inch single on a small European label .', 'Nine_Inch_Nails_discography 4')]}, {'index': 9, 'id': '108281', 'claim': 'Andrew Kevin Walker is only Chinese.', 'label': 'UNKOWN', 'evidence': [('Andrew Kevin Walker -LRB- born August 14 , 1964 -RRB- is an American BAFTA-nominated screenwriter .', 'Andrew_Kevin_Walker 0'), ('Andrew Kevin Walker -LRB- born 1964 -RRB- , American screenwriter', 'Andrew_Walker 19'), ('Kevin Walker may refer to :', 'Kevin_Walker 0'), ('Andrew Walker may refer to :', 'Andrew_Walker 0'), ('Andrew Walker -LRB- murderer -RRB- , Briton', 'Andrew_Walker 11'), ('Andrew Barclay Walker -LRB- 1824 -- 1893 -RRB- , brewer and Liverpool councillor', 'Andrew_Walker 17'), ('Andrew Walker -LRB- actor -RRB- -LRB- born 1979 -RRB- , Canadian actor and producer', 'Andrew_Walker 3'), ('Andrew Walker -LRB- cricketer -RRB- -LRB- born 1971 -RRB- , former English cricketer', 'Andrew_Walker 7'), ('Andrew Walker -LRB- politician -RRB- -LRB- 1855 -- 1934 -RRB- , New Zealand politician', 'Andrew_Walker 13'), ('Andrew Walker -LRB- footballer -RRB- -LRB- born 1986 -RRB- , Australian rules footballer with Carlton', 'Andrew_Walker 9')]}]\n"
     ]
    }
   ],
   "source": [
    "print(len(testexample))\n",
    "print(testexample[:10])"
   ]
  },
  {
   "cell_type": "code",
   "execution_count": null,
   "metadata": {},
   "outputs": [],
   "source": []
  }
 ],
 "metadata": {
  "kernelspec": {
   "display_name": "Python 3",
   "language": "python",
   "name": "python3"
  },
  "language_info": {
   "codemirror_mode": {
    "name": "ipython",
    "version": 3
   },
   "file_extension": ".py",
   "mimetype": "text/x-python",
   "name": "python",
   "nbconvert_exporter": "python",
   "pygments_lexer": "ipython3",
   "version": "3.7.1"
  }
 },
 "nbformat": 4,
 "nbformat_minor": 2
}
