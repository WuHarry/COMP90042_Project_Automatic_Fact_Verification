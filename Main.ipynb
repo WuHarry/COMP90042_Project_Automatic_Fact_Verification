{
 "cells": [
  {
   "cell_type": "code",
   "execution_count": 8,
   "metadata": {},
   "outputs": [
    {
     "name": "stdout",
     "output_type": "stream",
     "text": [
      "145449\n",
      "lucene 7.7.1\n",
      "5001\n",
      "100 examples loaded\n",
      "200 examples loaded\n",
      "300 examples loaded\n",
      "400 examples loaded\n",
      "500 examples loaded\n",
      "600 examples loaded\n",
      "700 examples loaded\n",
      "800 examples loaded\n",
      "900 examples loaded\n",
      "1000 examples loaded\n",
      "1100 examples loaded\n",
      "1200 examples loaded\n",
      "1300 examples loaded\n",
      "1400 examples loaded\n",
      "1500 examples loaded\n",
      "1600 examples loaded\n",
      "1700 examples loaded\n",
      "1800 examples loaded\n",
      "1900 examples loaded\n",
      "2000 examples loaded\n",
      "2100 examples loaded\n",
      "2200 examples loaded\n",
      "2300 examples loaded\n",
      "2400 examples loaded\n",
      "2500 examples loaded\n",
      "2600 examples loaded\n",
      "2700 examples loaded\n",
      "2800 examples loaded\n",
      "2900 examples loaded\n",
      "3000 examples loaded\n",
      "3100 examples loaded\n",
      "3200 examples loaded\n",
      "3300 examples loaded\n",
      "3400 examples loaded\n",
      "3500 examples loaded\n",
      "3600 examples loaded\n",
      "3700 examples loaded\n",
      "3800 examples loaded\n",
      "3900 examples loaded\n",
      "4000 examples loaded\n",
      "4100 examples loaded\n",
      "4200 examples loaded\n",
      "4300 examples loaded\n",
      "4400 examples loaded\n",
      "4500 examples loaded\n",
      "4600 examples loaded\n",
      "4700 examples loaded\n",
      "4800 examples loaded\n",
      "4900 examples loaded\n",
      "5000 examples loaded\n",
      "5100 examples loaded\n",
      "5200 examples loaded\n",
      "5300 examples loaded\n",
      "5400 examples loaded\n",
      "5500 examples loaded\n",
      "5600 examples loaded\n",
      "5700 examples loaded\n",
      "5800 examples loaded\n",
      "5900 examples loaded\n",
      "6000 examples loaded\n",
      "6100 examples loaded\n",
      "6200 examples loaded\n",
      "6300 examples loaded\n",
      "6400 examples loaded\n",
      "6500 examples loaded\n",
      "6600 examples loaded\n",
      "6700 examples loaded\n",
      "6800 examples loaded\n",
      "6900 examples loaded\n",
      "7000 examples loaded\n",
      "7100 examples loaded\n",
      "7200 examples loaded\n",
      "7300 examples loaded\n",
      "Data set convertered!\n",
      "0:22:33.823282\n"
     ]
    }
   ],
   "source": [
    "import json\n",
    "from zipfile import ZipFile\n",
    "import sys, os, lucene, time\n",
    "from datetime import datetime\n",
    "\n",
    "import search_engine as se\n",
    "\n",
    "import io_interface\n",
    "\n",
    "with open('train.json', 'r') as training:\n",
    "    training_data = json.loads(training.read())\n",
    "\n",
    "print(len(list(training_data.items())))\n",
    "    \n",
    "assert lucene.getVMEnv() or lucene.initVM(vmargs=['-Djava.awt.headless=true'])\n",
    "\n",
    "print('lucene', lucene.VERSION)\n",
    "# start = datetime.now()\n",
    "# try:\n",
    "#     base_dir = os.getcwd()\n",
    "# #     search_engine = se.IndexFiles('wiki-pages-text.zip', os.path.join(base_dir, INDEX_DIR), False)\n",
    "# #     loader = loader.Loader('wiki-pages-text.zip', os.path.join(base_dir, INDEX_DIR), base_dir)\n",
    "#     test = loader.train_dev_loader(False, 200)\n",
    "#     end = datetime.now()\n",
    "#     print(end - start)\n",
    "# except Exception as e:\n",
    "#     print(\"Failed: \", str(e))\n",
    "\n",
    "start = datetime.now()\n",
    "inputDataGenerator = io_interface.InputDataGenerator()\n",
    "inputexample = inputDataGenerator.generateInput(float('inf'), False)\n",
    "end = datetime.now()\n",
    "print(end - start)"
   ]
  },
  {
   "cell_type": "code",
   "execution_count": 9,
   "metadata": {},
   "outputs": [
    {
     "name": "stdout",
     "output_type": "stream",
     "text": [
      "7369\n",
      "[{'index': 2, 'id': '137334', 'claim': 'Fox 2000 Pictures released the film Soul Food.', 'label': 'SUPPORTS', 'evidence': [(\"Soul Food is a 1997 American comedy-drama film produced by Kenneth `` Babyface '' Edmonds , Tracey Edmonds and Robert Teitel and released by Fox 2000 Pictures .\", 1), ('Soul Food -LRB- soundtrack -RRB- , the soundtrack to the 1997 film Soul Food', 0), ('In 2015 , it was announced that 20th Century Fox is planning a sequel for film called More Soul Food , written by Tillman , Jr. .', 0), ('Soul Food -LRB- film -RRB- , a 1997 American comedy-drama film', 0), ('Soul food is a type of cuisine .', 0), ('Soul Food may also refer to :', 0), ('Soul Food -LRB- Oblivians album -RRB-', 0), ('Soul Food -LRB- Def Jef album -RRB-', 0), ('Soul Food -LRB- Goodie Mob album -RRB-', 0), (\"Fox Searchlight Pictures is an American film distribution company within the Fox Entertainment Group , a sister company of the larger Fox studio 20th Century Fox , all owned by Rupert Murdoch 's 21st Century Fox .\", 0)]}, {'index': 10, 'id': '181634', 'claim': 'There is a capital called Mogadishu.', 'label': 'SUPPORTS', 'evidence': [('Mogadishu -LRB- -LSB- ˌmɔːɡəˈdiːʃuː -RSB- Muqdisho -LSB- mʉqdɪʃɔ -RSB- ; مقديشو -LSB- maqadiːʃuː -RSB- -RRB- , known locally as Hamar , is the capital and most populous city of Somalia .', 1), ('The Port of Mogadishu , also known as the Mogadishu International Port , is the official seaport of Mogadishu , the capital of Somalia .', 0), (\"As Somalia 's capital city , many important national institutions are based in Mogadishu .\", 0), ('The Battle of South Mogadishu occurred in the Somali capital of Mogadishu on February 24 , 2009 .', 0), ('The 2008 Mogadishu bombings occurred on August 3 , 2008 in Mogadishu , the capital of Somalia .', 0), ('The nickname itself comes from Mogadishu , the capital of Somalia .', 0), ('Mogadishu University , a non-governmental university in the Somali capital of Mogadishu', 0), (\"Mogadishu International Airport , the capital 's main airport , is the hub of the national carrier Somali Airlines .\", 0), ('Lido Beach in Mogadishu is a beach in Somalia ` s capital .', 0), ('Mogadishu Stadium is a stadium in Mogadishu , Somalia .', 0)]}, {'index': 16, 'id': '204361', 'claim': 'The Cretaceous ended.', 'label': 'SUPPORTS', 'evidence': [('The end of the Cretaceous is defined by the abrupt Cretaceous -- Paleogene boundary -LRB- K -- Pg boundary -RRB- , a geologic signature associated with the mass extinction which lies between the Mesozoic and Cenozoic eras .', 1), ('The Early Cretaceous/Middle Cretaceous -LRB- geochronological name -RRB- or the Lower Cretaceous -LRB- chronostratigraphic name -RRB- , is the earlier or lower of the two major divisions of the Cretaceous .', 0), ('The journal focuses on topics dealing with the Cretaceous period and the Cretaceous -- Paleogene boundary .', 0), ('The Cretaceous Period is usually abbreviated K , for its German translation Kreide -LRB- chalk -RRB- .', 0), ('The Late Cretaceous -LRB- 100.5 -- 66 Ma -RRB- is the younger of two epochs into which the Cretaceous period is divided in the geologic timescale .', 0), ('The Cretaceous was a period with a relatively warm climate , resulting in high eustatic sea levels that created numerous shallow inland seas .', 0), ('Cretaceous Thermal Maximum , also known as Cretaceous Thermal Optimum , was a period early in the Late Cretaceous notable for its dramatic increase in global temperatures .', 0), ('Rock strata from this epoch form the Upper Cretaceous series .', 0), ('Cretaceous Mongolia is one of the strangest and best preserved of all Mesozoic ecosystems .', 0), ('Cretaceous Research is a bimonthly peer-reviewed scientific journal published by Elsevier .', 0)]}, {'index': 17, 'id': '204361', 'claim': 'The Cretaceous ended.', 'label': 'SUPPORTS', 'evidence': [('The Cretaceous ended with a large mass extinction , the Cretaceous -- Paleogene extinction event , in which many groups , including non-avian dinosaurs , pterosaurs and large marine reptiles died out .', 1), ('The Early Cretaceous/Middle Cretaceous -LRB- geochronological name -RRB- or the Lower Cretaceous -LRB- chronostratigraphic name -RRB- , is the earlier or lower of the two major divisions of the Cretaceous .', 0), ('The journal focuses on topics dealing with the Cretaceous period and the Cretaceous -- Paleogene boundary .', 0), ('The Cretaceous Period is usually abbreviated K , for its German translation Kreide -LRB- chalk -RRB- .', 0), ('The Late Cretaceous -LRB- 100.5 -- 66 Ma -RRB- is the younger of two epochs into which the Cretaceous period is divided in the geologic timescale .', 0), ('The Cretaceous was a period with a relatively warm climate , resulting in high eustatic sea levels that created numerous shallow inland seas .', 0), ('Cretaceous Thermal Maximum , also known as Cretaceous Thermal Optimum , was a period early in the Late Cretaceous notable for its dramatic increase in global temperatures .', 0), ('Rock strata from this epoch form the Upper Cretaceous series .', 0), ('Cretaceous Mongolia is one of the strangest and best preserved of all Mesozoic ecosystems .', 0), ('Cretaceous Research is a bimonthly peer-reviewed scientific journal published by Elsevier .', 0)]}, {'index': 19, 'id': '105095', 'claim': 'Nicholas Brody is a character on Homeland.', 'label': 'SUPPORTS', 'evidence': [(\"Nicholas `` Nick '' Brody , played by actor Damian Lewis , is a fictional character on the American television series Homeland on Showtime , created by Alex Gansa and Howard Gordon .\", 1), ('Chris Brody , a character in Homeland -LRB- TV series -RRB-', 0), ('Brody Nelson is a character on CSI : Cyber .', 0), (\"`` Representative Brody '' is the tenth episode of the first season of the psychological thriller TV series Homeland .\", 0), ('Following his rescue and return home , Brody is hailed as a war hero and promoted to gunnery .', 0), ('Joe Brody , character in Lunarcop played by Michael Paré', 0), ('Brody was a USMC Sergeant who was held as a prisoner of war by al-Qaeda terrorists for eight years .', 0), ('Chris Brody , a character in Haven -LRB- TV series -RRB-', 0), ('Brody is the junction of the Druzhba and Odessa -- Brody oil pipelines .', 0), ('Joe Brody , fictional character in Godzilla -LRB- 2014 film -RRB-', 0)]}, {'index': 20, 'id': '105095', 'claim': 'Nicholas Brody is a character on Homeland.', 'label': 'SUPPORTS', 'evidence': [('However , a CIA officer , Carrie Mathison , suspects that Brody was turned by al-Qaeda , and tries to stop him from potentially committing a terrorist act .', 1), ('Chris Brody , a character in Homeland -LRB- TV series -RRB-', 0), ('Brody Nelson is a character on CSI : Cyber .', 0), (\"`` Representative Brody '' is the tenth episode of the first season of the psychological thriller TV series Homeland .\", 0), ('Following his rescue and return home , Brody is hailed as a war hero and promoted to gunnery .', 0), ('Joe Brody , character in Lunarcop played by Michael Paré', 0), ('Brody was a USMC Sergeant who was held as a prisoner of war by al-Qaeda terrorists for eight years .', 0), ('Chris Brody , a character in Haven -LRB- TV series -RRB-', 0), ('Brody is the junction of the Druzhba and Odessa -- Brody oil pipelines .', 0), ('Joe Brody , fictional character in Godzilla -LRB- 2014 film -RRB-', 0)]}, {'index': 21, 'id': '105095', 'claim': 'Nicholas Brody is a character on Homeland.', 'label': 'SUPPORTS', 'evidence': [('After a U.S. Marine sergeant named Nicholas Brody is rescued from captivity , Mathison believes that he is the POW described to her .', 1), ('Chris Brody , a character in Homeland -LRB- TV series -RRB-', 0), ('Brody Nelson is a character on CSI : Cyber .', 0), (\"`` Representative Brody '' is the tenth episode of the first season of the psychological thriller TV series Homeland .\", 0), ('Following his rescue and return home , Brody is hailed as a war hero and promoted to gunnery .', 0), ('Joe Brody , character in Lunarcop played by Michael Paré', 0), ('Brody was a USMC Sergeant who was held as a prisoner of war by al-Qaeda terrorists for eight years .', 0), ('Chris Brody , a character in Haven -LRB- TV series -RRB-', 0), ('Brody is the junction of the Druzhba and Odessa -- Brody oil pipelines .', 0), ('Joe Brody , fictional character in Godzilla -LRB- 2014 film -RRB-', 0)]}, {'index': 22, 'id': '105095', 'claim': 'Nicholas Brody is a character on Homeland.', 'label': 'SUPPORTS', 'evidence': [('Carrie Anne Mathison , played by actress Claire Danes , is a fictional character and the protagonist of the American television drama/thriller series Homeland on Showtime , created by Alex Gansa and Howard Gordon .', 1), ('Chris Brody , a character in Homeland -LRB- TV series -RRB-', 0), ('Brody Nelson is a character on CSI : Cyber .', 0), (\"`` Representative Brody '' is the tenth episode of the first season of the psychological thriller TV series Homeland .\", 0), ('Following his rescue and return home , Brody is hailed as a war hero and promoted to gunnery .', 0), ('Joe Brody , character in Lunarcop played by Michael Paré', 0), ('Brody was a USMC Sergeant who was held as a prisoner of war by al-Qaeda terrorists for eight years .', 0), ('Chris Brody , a character in Haven -LRB- TV series -RRB-', 0), ('Brody is the junction of the Druzhba and Odessa -- Brody oil pipelines .', 0), ('Joe Brody , fictional character in Godzilla -LRB- 2014 film -RRB-', 0)]}, {'index': 29, 'id': '192714', 'claim': 'CBS is the network that aired The Millers.', 'label': 'SUPPORTS', 'evidence': [('The multi-camera series aired from October 3 , 2013 to July 18 , 2015 and ran 34 episodes over two seasons on CBS .', 1), ('CBS Sports Network is an American digital cable and satellite television network that is owned by the CBS Corporation .', 0), ('After CSTV was acquired by CBS in 2008 , the network was re-branded as the CBS College Sports Network .', 0), (\"CBS announced the cancellation of The Millers on November 14 , 2014 , four episodes into the show 's second season .\", 0), ('CBS Storybreak is a Saturday morning anthology television series that originally aired on the CBS network during the 1985 season .', 0), ('CBS Paramount Network Television was the main production arm of CBS Paramount Television , a division of CBS Corporation .', 0), ('CBS Block Party was a programming block that aired on the CBS television network during the 1997-1998 television season .', 0), ('Millers may refer to :', 0), ('The CBS television network', 0), ('It was known as Paramount Network Television and CBS Productions until 2006 .', 0)]}, {'index': 31, 'id': '159706', 'claim': 'Edgar Wright is a person.', 'label': 'SUPPORTS', 'evidence': [(\"Along with his friends Joe Cornish and Steven Moffat , he co-wrote Steven Spielberg 's The Adventures of Tintin : The Secret of the Unicorn .\", 1), ('Person-to-person and person to person may refer to :', 0), ('Person to Person !', 0), (\"And the name of the program is ` Person to Person ' .\", 0), ('Edgar Edgar Musikahan -LRB- English translation : Edgar Edgar Musical Show -RRB- is the fifth album of the Filipino alternative rock band Parokya Ni Edgar , released in 2002 by Universal Records .', 0), ('Wright & Wright Architects is a British architectural firm , founded in 1994 by Sandy and Clare Wright MBE .', 0), ('Edgar holds a Bachelor of Music in Guitar Performance from Oklahoma City University , the first person to do so .', 0), ('In Person !', 0), ('In Person !', 0), ('Edgar Township , Edgar County , Illinois', 0)]}]\n"
     ]
    }
   ],
   "source": [
    "print(len(inputexample))\n",
    "print(inputexample[:10])"
   ]
  },
  {
   "cell_type": "code",
   "execution_count": null,
   "metadata": {},
   "outputs": [],
   "source": []
  }
 ],
 "metadata": {
  "kernelspec": {
   "display_name": "Python 3",
   "language": "python",
   "name": "python3"
  },
  "language_info": {
   "codemirror_mode": {
    "name": "ipython",
    "version": 3
   },
   "file_extension": ".py",
   "mimetype": "text/x-python",
   "name": "python",
   "nbconvert_exporter": "python",
   "pygments_lexer": "ipython3",
   "version": "3.7.1"
  }
 },
 "nbformat": 4,
 "nbformat_minor": 2
}
