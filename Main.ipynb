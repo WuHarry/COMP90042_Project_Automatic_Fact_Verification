{
 "cells": [
  {
   "cell_type": "code",
   "execution_count": 3,
   "metadata": {},
   "outputs": [
    {
     "name": "stdout",
     "output_type": "stream",
     "text": [
      "75397 {\n",
      "    \"claim\": \"Nikolaj Coster-Waldau worked with the Fox Broadcasting Company.\",\n",
      "    \"evidence\": [\n",
      "        [\n",
      "            \"Fox_Broadcasting_Company\",\n",
      "            0\n",
      "        ],\n",
      "        [\n",
      "            \"Nikolaj_Coster-Waldau\",\n",
      "            7\n",
      "        ]\n",
      "    ],\n",
      "    \"label\": \"SUPPORTS\"\n",
      "}\n",
      "461603\n",
      "['Alexander_McNair', '0', 'Alexander', 'McNair', '-LRB-', 'May', '5', ',', '1775', '--', 'March', '18', ',', '1826', '-RRB-', 'was', 'an', 'American', 'frontiersman', 'and', 'politician']\n"
     ]
    }
   ],
   "source": [
    "import json\n",
    "import unicodedata\n",
    "from zipfile import ZipFile\n",
    "import lucene\n",
    "from lupyne import engine\n",
    "\n",
    "with open('train.json', 'r') as training:\n",
    "    training_data = json.loads(training.read())\n",
    "    \n",
    "for key, value in training_data.items():\n",
    "    print(key, json.dumps(value, sort_keys = True, indent = 4 ))\n",
    "    break\n",
    "    \n",
    "wikiFile = ZipFile('wiki-pages-text.zip', 'r')\n",
    "files = wikiFile.namelist()\n",
    "\n",
    "wiki_docs = []\n",
    "\n",
    "for file in files[1:3]:\n",
    "    wiki = wikiFile.open(file,'r')\n",
    "    for line in wiki:\n",
    "        wiki_docs.append(str(line.strip())[2:-3])\n",
    "    \n",
    "print(len(wiki_docs))\n",
    "print(wiki_docs[0].split())\n",
    "    \n",
    "lucene.initVM(vmargs=['-Djava.awt.headless=true'])\n",
    "\n",
    "\n",
    "\n"
   ]
  },
  {
   "cell_type": "code",
   "execution_count": null,
   "metadata": {},
   "outputs": [],
   "source": []
  },
  {
   "cell_type": "code",
   "execution_count": null,
   "metadata": {},
   "outputs": [],
   "source": []
  }
 ],
 "metadata": {
  "kernelspec": {
   "display_name": "Python 3",
   "language": "python",
   "name": "python3"
  },
  "language_info": {
   "codemirror_mode": {
    "name": "ipython",
    "version": 3
   },
   "file_extension": ".py",
   "mimetype": "text/x-python",
   "name": "python",
   "nbconvert_exporter": "python",
   "pygments_lexer": "ipython3",
   "version": "3.7.1"
  }
 },
 "nbformat": 4,
 "nbformat_minor": 2
}
