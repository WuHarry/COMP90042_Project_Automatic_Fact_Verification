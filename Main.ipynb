{
 "cells": [
  {
   "cell_type": "code",
   "execution_count": null,
   "metadata": {},
   "outputs": [
    {
     "name": "stdout",
     "output_type": "stream",
     "text": [
      "75397 {\n",
      "    \"claim\": \"Nikolaj Coster-Waldau worked with the Fox Broadcasting Company.\",\n",
      "    \"evidence\": [\n",
      "        [\n",
      "            \"Fox_Broadcasting_Company\",\n",
      "            0\n",
      "        ],\n",
      "        [\n",
      "            \"Nikolaj_Coster-Waldau\",\n",
      "            7\n",
      "        ]\n",
      "    ],\n",
      "    \"label\": \"SUPPORTS\"\n",
      "}\n",
      "wiki-pages-text/wiki-009.txt\n",
      "224486\n",
      "['Alexander_McNair', '0', 'Alexander McNair -LRB- May 5 , 1775 -- March 18 , 1826 -RRB- was an American frontiersman and politician .\\n']\n",
      "Alexander_McNair 0\n",
      "['Aleksandr_Abdulkhalikov', '1', 'He', 'last', 'played', 'in', 'the', 'Russian', 'Second', 'Division', 'for', 'FC', 'Khimik', 'Dzerzhinsk', '.']\n",
      "['Aleksey_Pushkov', '0', 'Aleksey', 'Konstantinovich', 'Pushkov', '-LRB-', 'Алексе́й', 'Константи́нович', 'Пушко́в', 'born', '10', 'August', '1954', '-RRB-', 'is', 'the', 'Russian', 'politician', ',', 'Senator', 'from', 'Perm', 'Krai', 'since', '29', 'September', '2016', '.']\n",
      "\n",
      "Alexander McNair -LRB- May 5 , 1775 -- March 18 , 1826 -RRB- was an American frontiersman and politician .\n",
      "\n",
      "Alexander McNair\n",
      "lucene 7.7.1\n",
      "100 examples loaded\n"
     ]
    }
   ],
   "source": [
    "INDEX_DIR = \"IndexFiles.index\"\n",
    "\n",
    "import json\n",
    "import unicodedata\n",
    "import codecs\n",
    "from zipfile import ZipFile\n",
    "import lucene\n",
    "import re\n",
    "import sys, os, lucene, time\n",
    "from datetime import datetime\n",
    "\n",
    "import search_engine as se\n",
    "\n",
    "import io_interface\n",
    "\n",
    "import loader\n",
    "\n",
    "with open('train.json', 'r') as training:\n",
    "    training_data = json.loads(training.read())\n",
    "\n",
    "    \n",
    "for key, value in training_data.items():\n",
    "    print(key, json.dumps(value, sort_keys = True, indent = 4 ))\n",
    "    break\n",
    "    \n",
    "wikiFile = ZipFile('wiki-pages-text.zip', 'r')\n",
    "files = wikiFile.namelist()\n",
    "\n",
    "wiki_docs = []\n",
    "            \n",
    "for file in files[1:2]:\n",
    "    print(file)\n",
    "    wiki = wikiFile.open(file,'r')\n",
    "    for line in codecs.iterdecode(wiki, 'utf8'):\n",
    "        wiki_docs.append(unicodedata.normalize('NFD', line))\n",
    "    \n",
    "print(len(wiki_docs))\n",
    "print(wiki_docs[0].split(' ', 2))\n",
    "print(wiki_docs[0].split(' ', 2)[0] + ' ' + wiki_docs[0].split(' ', 2)[1])\n",
    "print(wiki_docs[50].split())\n",
    "print(wiki_docs[1000].split())\n",
    "print()\n",
    "print(wiki_docs[0].split(' ', 2)[2])\n",
    "    \n",
    "    \n",
    "print(re.sub(r'[^a-zA-Z0-9]', ' ', wiki_docs[0].split(' ', 2)[0]))\n",
    "\n",
    "assert lucene.getVMEnv() or lucene.initVM(vmargs=['-Djava.awt.headless=true'])\n",
    "\n",
    "print('lucene', lucene.VERSION)\n",
    "# start = datetime.now()\n",
    "# try:\n",
    "#     base_dir = os.getcwd()\n",
    "# #     search_engine = se.IndexFiles('wiki-pages-text.zip', os.path.join(base_dir, INDEX_DIR), False)\n",
    "# #     loader = loader.Loader('wiki-pages-text.zip', os.path.join(base_dir, INDEX_DIR), base_dir)\n",
    "#     test = loader.train_dev_loader(False, 200)\n",
    "#     end = datetime.now()\n",
    "#     print(end - start)\n",
    "# except Exception as e:\n",
    "#     print(\"Failed: \", str(e))\n",
    "\n",
    "\n",
    "# name, content = search_engine.searchDocs('Tilda Swinton is a vegan.')\n",
    "# print(name)\n",
    "# print(content)\n",
    "\n",
    "#outputformatting = OutputFormatting()\n",
    "#outputformatting.convert_output_to_json()\n",
    "inputDataGenerator = io_interface.InputDataGenerator()\n",
    "inputexample = inputDataGenerator.generateInput(500)"
   ]
  },
  {
   "cell_type": "code",
   "execution_count": 21,
   "metadata": {},
   "outputs": [
    {
     "name": "stdout",
     "output_type": "stream",
     "text": [
      "Michael Gambon acted in Twilight.\n"
     ]
    }
   ],
   "source": [
    "print(inputexample[0].claim)"
   ]
  },
  {
   "cell_type": "code",
   "execution_count": null,
   "metadata": {},
   "outputs": [],
   "source": []
  },
  {
   "cell_type": "code",
   "execution_count": null,
   "metadata": {},
   "outputs": [],
   "source": []
  }
 ],
 "metadata": {
  "kernelspec": {
   "display_name": "Python 3",
   "language": "python",
   "name": "python3"
  },
  "language_info": {
   "codemirror_mode": {
    "name": "ipython",
    "version": 3
   },
   "file_extension": ".py",
   "mimetype": "text/x-python",
   "name": "python",
   "nbconvert_exporter": "python",
   "pygments_lexer": "ipython3",
   "version": "3.7.1"
  }
 },
 "nbformat": 4,
 "nbformat_minor": 2
}
