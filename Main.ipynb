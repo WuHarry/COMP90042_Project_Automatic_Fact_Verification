{
 "cells": [
  {
   "cell_type": "code",
   "execution_count": 1,
   "metadata": {},
   "outputs": [
    {
     "name": "stdout",
     "output_type": "stream",
     "text": [
      "5001\n",
      "lucene 7.7.1\n",
      "Test Data loaded!\n",
      "14997\n",
      "0:00:00.275488\n"
     ]
    }
   ],
   "source": [
    "import json\n",
    "from zipfile import ZipFile\n",
    "import sys, os, lucene, time\n",
    "from datetime import datetime\n",
    "\n",
    "import search_engine as se\n",
    "\n",
    "import io_interface\n",
    "\n",
    "with open('devset.json', 'r') as training:\n",
    "    training_data = json.loads(training.read())\n",
    "\n",
    "print(len(list(training_data.items())))\n",
    "    \n",
    "assert lucene.getVMEnv() or lucene.initVM(vmargs=['-Djava.awt.headless=true'])\n",
    "\n",
    "print('lucene', lucene.VERSION)\n",
    "# start = datetime.now()\n",
    "# try:\n",
    "#     base_dir = os.getcwd()\n",
    "# #     search_engine = se.IndexFiles('wiki-pages-text.zip', os.path.join(base_dir, INDEX_DIR), False)\n",
    "# #     loader = loader.Loader('wiki-pages-text.zip', os.path.join(base_dir, INDEX_DIR), base_dir)\n",
    "#     test = loader.train_dev_loader(False, 200)\n",
    "#     end = datetime.now()\n",
    "#     print(end - start)\n",
    "# except Exception as e:\n",
    "#     print(\"Failed: \", str(e))\n",
    "\n",
    "start = datetime.now()\n",
    "inputDataGenerator = io_interface.InputDataGenerator()\n",
    "# inputexample = inputDataGenerator.generateInput(float('inf'), True)\n",
    "testexample = inputDataGenerator.generateTest(True)\n",
    "print(len(testexample))\n",
    "end = datetime.now()\n",
    "print(end - start)"
   ]
  },
  {
   "cell_type": "code",
   "execution_count": null,
   "metadata": {
    "scrolled": true
   },
   "outputs": [
    {
     "name": "stderr",
     "output_type": "stream",
     "text": [
      "Using TensorFlow backend.\n"
     ]
    },
    {
     "name": "stdout",
     "output_type": "stream",
     "text": [
      "Test Data loaded!\n",
      "WARNING:tensorflow:From /Users/yahang/anaconda3/lib/python3.7/site-packages/tensorflow/python/framework/op_def_library.py:263: colocate_with (from tensorflow.python.framework.ops) is deprecated and will be removed in a future version.\n",
      "Instructions for updating:\n",
      "Colocations handled automatically by placer.\n",
      "WARNING:tensorflow:From /Users/yahang/anaconda3/lib/python3.7/site-packages/keras/backend/tensorflow_backend.py:3445: calling dropout (from tensorflow.python.ops.nn_ops) with keep_prob is deprecated and will be removed in a future version.\n",
      "Instructions for updating:\n",
      "Please use `rate` instead of `keep_prob`. Rate should be set to `rate = 1 - keep_prob`.\n",
      "WARNING:tensorflow:From /Users/yahang/anaconda3/lib/python3.7/site-packages/tensorflow/python/ops/math_ops.py:3066: to_int32 (from tensorflow.python.ops.math_ops) is deprecated and will be removed in a future version.\n",
      "Instructions for updating:\n",
      "Use tf.cast instead.\n",
      "WARNING:tensorflow:From /Users/yahang/anaconda3/lib/python3.7/site-packages/tensorflow/python/ops/math_grad.py:102: div (from tensorflow.python.ops.math_ops) is deprecated and will be removed in a future version.\n",
      "Instructions for updating:\n",
      "Deprecated in favor of operator or tf.math.divide.\n"
     ]
    }
   ],
   "source": [
    "import GenerateOutput\n",
    "\n",
    "output = GenerateOutput.GenerateOutput()\n",
    "output.generateOutput()"
   ]
  },
  {
   "cell_type": "code",
   "execution_count": null,
   "metadata": {},
   "outputs": [],
   "source": []
  }
 ],
 "metadata": {
  "kernelspec": {
   "display_name": "Python 3",
   "language": "python",
   "name": "python3"
  },
  "language_info": {
   "codemirror_mode": {
    "name": "ipython",
    "version": 3
   },
   "file_extension": ".py",
   "mimetype": "text/x-python",
   "name": "python",
   "nbconvert_exporter": "python",
   "pygments_lexer": "ipython3",
   "version": "3.7.1"
  }
 },
 "nbformat": 4,
 "nbformat_minor": 2
}
