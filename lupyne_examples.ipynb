{
 "cells": [
  {
   "cell_type": "code",
   "execution_count": 30,
   "metadata": {},
   "outputs": [
    {
     "name": "stdout",
     "output_type": "stream",
     "text": [
      "1\n",
      "{'identifier': ['A_B']}\n"
     ]
    }
   ],
   "source": [
    "\"\"\"\n",
    "Basic indexing and searching example adapted from http://lucene.apache.org/core/7_2_0/core/index.html\n",
    "\"\"\"\n",
    "\n",
    "import lucene\n",
    "from org.apache.lucene import analysis, document, index, queryparser, search, store\n",
    "from lupyne import engine\n",
    "assert lucene.getVMEnv() or lucene.initVM()\n",
    "\n",
    "# # # lucene # # #\n",
    "\n",
    "# analyzer = analysis.standard.StandardAnalyzer()\n",
    "\n",
    "# # Store the index in memory:\n",
    "# directory = store.RAMDirectory()\n",
    "# # To store an index on disk, use this instead:\n",
    "# # Directory directory = FSDirectory.open(File(\"/tmp/testindex\"))\n",
    "# config = index.IndexWriterConfig(analyzer)\n",
    "# iwriter = index.IndexWriter(directory, config)\n",
    "# doc = document.Document()\n",
    "text = \"This is the text to be indexed.\"\n",
    "# doc.add(document.Field('fieldname', text, document.TextField.TYPE_STORED))\n",
    "# iwriter.addDocument(doc)\n",
    "# iwriter.close()\n",
    "\n",
    "# # Now search the index:\n",
    "# ireader = index.DirectoryReader.open(directory)\n",
    "# isearcher = search.IndexSearcher(ireader)\n",
    "# # Parse a simple query that searches for \"text\":\n",
    "# parser = queryparser.classic.QueryParser('fieldname', analyzer)\n",
    "# query = parser.parse('text')\n",
    "# hits = isearcher.search(query, 1000).scoreDocs\n",
    "# assert len(hits) == 1\n",
    "# # Iterate through the results:\n",
    "# for hit in hits:\n",
    "#     hitDoc = isearcher.doc(hit.doc)\n",
    "#     assert hitDoc['fieldname'] == text\n",
    "# ireader.close()\n",
    "# directory.close()\n",
    "\n",
    "# # # lupyne # # #\n",
    "\n",
    "\n",
    "text2 = \"A_B\"\n",
    "\n",
    "# Store the index in memory:\n",
    "indexer = engine.Indexer()                                  # Indexer combines Writer and Searcher; RAMDirectory and StandardAnalyzer are defaults\n",
    "indexer.set('identifier', engine.Field.Text, stored=True)    # default indexed text settings for documents\n",
    "indexer.add(identifier=text)                                 # add document\n",
    "indexer.commit()                                            # commit changes and refresh searcher\n",
    "\n",
    "indexer.add(identifier=text2)\n",
    "indexer.commit()\n",
    "\n",
    "# Now search the index:\n",
    "hits = indexer.search('identifier:a*', field='identifier')    # parsing handled if necessary\n",
    "# assert len(hits) == 0\n",
    "print(len(hits))\n",
    "for hit in hits:                                    # hits support mapping interface\n",
    "    print(hit)\n",
    "#     assert hit['ok'] == text\n",
    "# closing is handled automatically\n",
    "\n",
    "\n",
    "\n"
   ]
  },
  {
   "cell_type": "markdown",
   "metadata": {},
   "source": [
    "https://lupyne.surge.sh/examples.html"
   ]
  },
  {
   "cell_type": "code",
   "execution_count": null,
   "metadata": {},
   "outputs": [],
   "source": []
  }
 ],
 "metadata": {
  "kernelspec": {
   "display_name": "Python 3",
   "language": "python",
   "name": "python3"
  },
  "language_info": {
   "codemirror_mode": {
    "name": "ipython",
    "version": 3
   },
   "file_extension": ".py",
   "mimetype": "text/x-python",
   "name": "python",
   "nbconvert_exporter": "python",
   "pygments_lexer": "ipython3",
   "version": "3.7.1"
  }
 },
 "nbformat": 4,
 "nbformat_minor": 2
}
